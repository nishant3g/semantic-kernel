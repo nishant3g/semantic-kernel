{
 "cells": [
  {
   "attachments": {},
   "cell_type": "markdown",
   "id": "fde98ddf",
   "metadata": {},
   "source": [
    "# Creating a basic chat experience with kernel arguments\n",
    "\n",
    "In this example, we show how you can build a simple chat bot by sending and updating the kernel arguments with your requests.\n",
    "\n",
    "We introduce the Kernel Arguments object which in this demo functions similarly as a key-value store that you can use when running the kernel.\n",
    "\n",
    "The chat history is local (i.e. in your computer's RAM) and not persisted anywhere beyond the life of this Jupyter session.\n",
    "\n",
    "In future examples, we will show how to persist the chat history on disk so that you can bring it into your applications.\n",
    "\n",
    "In this chat scenario, as the user talks back and forth with the bot, the chat context gets populated with the history of the conversation. During each new run of the kernel, the kernel arguments and chat history can provide the AI with its variables' content.\n"
   ]
  },
  {
   "cell_type": "code",
   "execution_count": 1,
   "id": "3b16c201",
   "metadata": {},
   "outputs": [
    {
     "data": {
      "text/plain": [
       "'1.28.1'"
      ]
     },
     "execution_count": 1,
     "metadata": {},
     "output_type": "execute_result"
    }
   ],
   "source": [
    "# Note: if using a virtual environment, do not run this cell\n",
    "#%pip install -U semantic-kernel\n",
    "from semantic_kernel import __version__\n",
    "\n",
    "__version__"
   ]
  },
  {
   "cell_type": "markdown",
   "id": "85886ed0",
   "metadata": {},
   "source": [
    "Initial configuration for the notebook to run properly."
   ]
  },
  {
   "cell_type": "code",
   "execution_count": 2,
   "id": "ec88496f",
   "metadata": {},
   "outputs": [],
   "source": [
    "# Make sure paths are correct for the imports\n",
    "\n",
    "import os\n",
    "import sys\n",
    "\n",
    "notebook_dir = os.path.abspath(\"\")\n",
    "parent_dir = os.path.dirname(notebook_dir)\n",
    "grandparent_dir = os.path.dirname(parent_dir)\n",
    "\n",
    "\n",
    "sys.path.append(grandparent_dir)"
   ]
  },
  {
   "cell_type": "markdown",
   "id": "208ed165",
   "metadata": {},
   "source": [
    "### Configuring the Kernel\n",
    "\n",
    "Let's get started with the necessary configuration to run Semantic Kernel. For Notebooks, we require a `.env` file with the proper settings for the model you use. Create a new file named `.env` and place it in this directory. Copy the contents of the `.env.example` file from this directory and paste it into the `.env` file that you just created.\n",
    "\n",
    "**NOTE: Please make sure to include `GLOBAL_LLM_SERVICE` set to either OpenAI, AzureOpenAI, or HuggingFace in your .env file. If this setting is not included, the Service will default to AzureOpenAI.**\n",
    "\n",
    "#### Option 1: using OpenAI\n",
    "\n",
    "Add your [OpenAI Key](https://openai.com/product/) key to your `.env` file (org Id only if you have multiple orgs):\n",
    "\n",
    "```\n",
    "GLOBAL_LLM_SERVICE=\"OpenAI\"\n",
    "OPENAI_API_KEY=\"sk-...\"\n",
    "OPENAI_ORG_ID=\"\"\n",
    "OPENAI_CHAT_MODEL_ID=\"\"\n",
    "OPENAI_TEXT_MODEL_ID=\"\"\n",
    "OPENAI_EMBEDDING_MODEL_ID=\"\"\n",
    "```\n",
    "The names should match the names used in the `.env` file, as shown above.\n",
    "\n",
    "#### Option 2: using Azure OpenAI\n",
    "\n",
    "Add your [Azure Open AI Service key](https://learn.microsoft.com/azure/cognitive-services/openai/quickstart?pivots=programming-language-studio) settings to the `.env` file in the same folder:\n",
    "\n",
    "```\n",
    "GLOBAL_LLM_SERVICE=\"AzureOpenAI\"\n",
    "AZURE_OPENAI_API_KEY=\"...\"\n",
    "AZURE_OPENAI_ENDPOINT=\"https://...\"\n",
    "AZURE_OPENAI_CHAT_DEPLOYMENT_NAME=\"...\"\n",
    "AZURE_OPENAI_TEXT_DEPLOYMENT_NAME=\"...\"\n",
    "AZURE_OPENAI_EMBEDDING_DEPLOYMENT_NAME=\"...\"\n",
    "AZURE_OPENAI_API_VERSION=\"...\"\n",
    "```\n",
    "The names should match the names used in the `.env` file, as shown above.\n",
    "\n",
    "For more advanced configuration, please follow the steps outlined in the [setup guide](./CONFIGURING_THE_KERNEL.md)."
   ]
  },
  {
   "cell_type": "markdown",
   "id": "da290af7",
   "metadata": {},
   "source": [
    "We will load our settings and get the LLM service to use for the notebook."
   ]
  },
  {
   "cell_type": "code",
   "execution_count": 3,
   "id": "6ed3f9ae",
   "metadata": {},
   "outputs": [
    {
     "name": "stdout",
     "output_type": "stream",
     "text": [
      "Using service type: Service.AzureOpenAI\n"
     ]
    }
   ],
   "source": [
    "from services import Service\n",
    "\n",
    "from samples.service_settings import ServiceSettings\n",
    "\n",
    "service_settings = ServiceSettings()\n",
    "\n",
    "# Select a service to use for this notebook (available services: OpenAI, AzureOpenAI, HuggingFace)\n",
    "selectedService = (\n",
    "    Service.AzureOpenAI\n",
    "    if service_settings.global_llm_service is None\n",
    "    else Service(service_settings.global_llm_service.lower())\n",
    ")\n",
    "print(f\"Using service type: {selectedService}\")"
   ]
  },
  {
   "cell_type": "code",
   "execution_count": 4,
   "id": "68301108",
   "metadata": {},
   "outputs": [],
   "source": [
    "from semantic_kernel import Kernel\n",
    "\n",
    "kernel = Kernel()\n",
    "\n",
    "service_id = None\n",
    "if selectedService == Service.OpenAI:\n",
    "    from semantic_kernel.connectors.ai.open_ai import OpenAIChatCompletion\n",
    "\n",
    "    service_id = \"default\"\n",
    "    kernel.add_service(\n",
    "        OpenAIChatCompletion(\n",
    "            service_id=service_id,\n",
    "        ),\n",
    "    )\n",
    "elif selectedService == Service.AzureOpenAI:\n",
    "    from semantic_kernel.connectors.ai.open_ai import AzureChatCompletion\n",
    "\n",
    "    service_id = \"default\"\n",
    "    kernel.add_service(\n",
    "        AzureChatCompletion(\n",
    "            service_id=service_id,\n",
    "        ),\n",
    "    )"
   ]
  },
  {
   "attachments": {},
   "cell_type": "markdown",
   "id": "7971783d",
   "metadata": {},
   "source": [
    "Let's define a prompt outlining a dialogue chat bot.\n"
   ]
  },
  {
   "cell_type": "code",
   "execution_count": 5,
   "id": "e84a05fc",
   "metadata": {},
   "outputs": [],
   "source": [
    "prompt = \"\"\"\n",
    "ChatBot can have a conversation with you about any topic.\n",
    "It can give explicit instructions or say 'I don't know' if it does not have an answer.\n",
    "\n",
    "{{$history}}\n",
    "User: {{$user_input}}\n",
    "ChatBot: \"\"\""
   ]
  },
  {
   "attachments": {},
   "cell_type": "markdown",
   "id": "61716b16",
   "metadata": {},
   "source": [
    "Register your semantic function\n"
   ]
  },
  {
   "cell_type": "code",
   "execution_count": 6,
   "id": "a3e4b160",
   "metadata": {},
   "outputs": [],
   "source": [
    "from semantic_kernel.connectors.ai.open_ai import AzureChatPromptExecutionSettings, OpenAIChatPromptExecutionSettings\n",
    "from semantic_kernel.prompt_template import PromptTemplateConfig\n",
    "from semantic_kernel.prompt_template.input_variable import InputVariable\n",
    "\n",
    "if selectedService == Service.OpenAI:\n",
    "    execution_settings = OpenAIChatPromptExecutionSettings(\n",
    "        service_id=service_id,\n",
    "        ai_model_id=\"gpt-3.5-turbo\",\n",
    "        max_tokens=2000,\n",
    "        temperature=0.7,\n",
    "    )\n",
    "elif selectedService == Service.AzureOpenAI:\n",
    "    execution_settings = AzureChatPromptExecutionSettings(\n",
    "        service_id=service_id,\n",
    "        ai_model_id=\"gpt-35-turbo\",\n",
    "        max_tokens=2000,\n",
    "        temperature=0.7,\n",
    "    )\n",
    "\n",
    "prompt_template_config = PromptTemplateConfig(\n",
    "    template=prompt,\n",
    "    name=\"chat\",\n",
    "    template_format=\"semantic-kernel\",\n",
    "    input_variables=[\n",
    "        InputVariable(name=\"user_input\", description=\"The user input\", is_required=True),\n",
    "        InputVariable(name=\"history\", description=\"The conversation history\", is_required=True),\n",
    "    ],\n",
    "    execution_settings=execution_settings,\n",
    ")\n",
    "\n",
    "chat_function = kernel.add_function(\n",
    "    function_name=\"chat\",\n",
    "    plugin_name=\"chatPlugin\",\n",
    "    prompt_template_config=prompt_template_config,\n",
    ")"
   ]
  },
  {
   "cell_type": "code",
   "execution_count": 7,
   "id": "6a0f7c01",
   "metadata": {},
   "outputs": [],
   "source": [
    "from semantic_kernel.contents import ChatHistory\n",
    "\n",
    "chat_history = ChatHistory()\n",
    "chat_history.add_system_message(\"You are a helpful chatbot who is good about giving book recommendations.\")"
   ]
  },
  {
   "attachments": {},
   "cell_type": "markdown",
   "id": "6e8a676f",
   "metadata": {},
   "source": [
    "Initialize the Kernel Arguments\n"
   ]
  },
  {
   "cell_type": "code",
   "execution_count": 8,
   "id": "a4be7394",
   "metadata": {},
   "outputs": [],
   "source": [
    "from semantic_kernel.functions import KernelArguments\n",
    "\n",
    "arguments = KernelArguments(user_input=\"Hi, I'm looking for book suggestions\", history=chat_history)"
   ]
  },
  {
   "attachments": {},
   "cell_type": "markdown",
   "id": "4ce7c497",
   "metadata": {},
   "source": [
    "Chat with the Bot\n"
   ]
  },
  {
   "cell_type": "code",
   "execution_count": 9,
   "id": "5ec41eb8",
   "metadata": {},
   "outputs": [
    {
     "name": "stdout",
     "output_type": "stream",
     "text": [
      "Of course! I'd love to help. Could you tell me a bit more about what you're looking for? Are you into fiction or nonfiction? Any specific genres, themes, or authors you enjoy?\n"
     ]
    }
   ],
   "source": [
    "response = await kernel.invoke(chat_function, arguments)\n",
    "print(response)"
   ]
  },
  {
   "attachments": {},
   "cell_type": "markdown",
   "id": "a5b03748",
   "metadata": {},
   "source": [
    "Update the history with the output\n"
   ]
  },
  {
   "cell_type": "code",
   "execution_count": 10,
   "id": "f50f517d",
   "metadata": {},
   "outputs": [],
   "source": [
    "chat_history.add_assistant_message(str(response))"
   ]
  },
  {
   "attachments": {},
   "cell_type": "markdown",
   "id": "23a2eb02",
   "metadata": {},
   "source": [
    "Keep Chatting!\n"
   ]
  },
  {
   "cell_type": "code",
   "execution_count": 11,
   "id": "c59efe45",
   "metadata": {},
   "outputs": [],
   "source": [
    "async def chat(input_text: str) -> None:\n",
    "    # Save new message in the context variables\n",
    "    print(f\"User: {input_text}\")\n",
    "\n",
    "    # Process the user message and get an answer\n",
    "    answer = await kernel.invoke(chat_function, KernelArguments(user_input=input_text, history=chat_history))\n",
    "\n",
    "    # Show the response\n",
    "    print(f\"ChatBot: {answer}\")\n",
    "\n",
    "    chat_history.add_user_message(input_text)\n",
    "    chat_history.add_assistant_message(str(answer))"
   ]
  },
  {
   "cell_type": "code",
   "execution_count": 12,
   "id": "06ee244e",
   "metadata": {},
   "outputs": [
    {
     "name": "stdout",
     "output_type": "stream",
     "text": [
      "User: I love history and philosophy, I'd like to learn something new about Greece, any suggestion?\n",
      "ChatBot: Absolutely! Here are some excellent book recommendations that delve into Greek history and philosophy:\n",
      "\n",
      "### Greek History:\n",
      "1. **\"The Histories\" by Herodotus**  \n",
      "   Known as the \"Father of History,\" Herodotus provides fascinating insights into ancient Greece and its neighboring civilizations, blending historical accounts with cultural observations.\n",
      "\n",
      "2. **\"The Peloponnesian War\" by Thucydides**  \n",
      "   A detailed and analytical account of the conflict between Athens and Sparta, Thucydides' work is considered one of the greatest historical texts ever written.\n",
      "\n",
      "3. **\"Alexander the Great\" by Philip Freeman**  \n",
      "   This biography offers a compelling narrative of Alexander the Great's life, conquests, and legacy, making it accessible and engaging for readers.\n",
      "\n",
      "4. **\"The Greeks: A Global History\" by Roderick Beaton**  \n",
      "   This recent book is a sweeping overview of Greek history, from ancient times to the modern era, offering fresh perspectives on Greece's contributions to the world.\n",
      "\n",
      "---\n",
      "\n",
      "### Greek Philosophy:\n",
      "1. **\"The Republic\" by Plato**  \n",
      "   A cornerstone of Western philosophy, this dialogue explores justice, governance, and the nature of an ideal society.\n",
      "\n",
      "2. **\"Nicomachean Ethics\" by Aristotle**  \n",
      "   Aristotle's seminal work on ethics and the pursuit of the good life is both profound and timeless.\n",
      "\n",
      "3. **\"Meditations\" by Marcus Aurelius**  \n",
      "   While Marcus Aurelius was Roman, his Stoic philosophy was heavily influenced by earlier Greek thinkers like Epictetus and Zeno. This is a fantastic introduction to practical philosophy.\n",
      "\n",
      "4. **\"The Presocratics: A Critical History with a Selection of Texts\" by G.S. Kirk, J.E. Raven, and M. Schofield**  \n",
      "   Learn about the early Greek philosophers who laid the groundwork for later thinkers like Plato and Aristotle.\n",
      "\n",
      "---\n",
      "\n",
      "### Bonus Suggestion:\n",
      "- **\"The Greeks and the Irrational\" by E.R. Dodds**  \n",
      "   This book reevaluates Greek culture and philosophy, exploring how irrational elements like emotions and religion shaped ancient Greek thought.\n",
      "\n",
      "Let me know if you'd like more recommendations or details about any of these!\n"
     ]
    }
   ],
   "source": [
    "await chat(\"I love history and philosophy, I'd like to learn something new about Greece, any suggestion?\")"
   ]
  },
  {
   "cell_type": "code",
   "execution_count": 13,
   "id": "82be4e7e",
   "metadata": {},
   "outputs": [
    {
     "name": "stdout",
     "output_type": "stream",
     "text": [
      "User: that sounds interesting, what is it about?\n",
      "ChatBot: Sure! Let me give you a bit more detail about **\"The Greeks and the Irrational\" by E.R. Dodds**:\n",
      "\n",
      "This fascinating book challenges the traditional view of ancient Greece as a purely rational and logical society. Dodds argues that, alongside their celebrated achievements in philosophy, science, and logic, the Greeks were profoundly influenced by irrational forces such as emotions, dreams, religious experiences, and superstitions. \n",
      "\n",
      "Using insights from psychology and anthropology, Dodds explores themes like the role of shame and guilt in Greek society, the significance of divine possession and oracles, and how irrational beliefs shaped Greek drama, literature, and philosophy. He also examines the contrast between rational and non-rational thought in key texts, such as those by Homer, Euripides, and Plato.\n",
      "\n",
      "This book is considered groundbreaking because it provides a more nuanced view of Greek culture, showing how human irrationality played a crucial role in shaping their worldview and legacy. For anyone interested in philosophy, history, and psychology, it's a compelling and eye-opening read.\n",
      "\n",
      "Let me know if you'd like to know more about the content or other books like it!\n"
     ]
    }
   ],
   "source": [
    "await chat(\"that sounds interesting, what is it about?\")"
   ]
  },
  {
   "cell_type": "code",
   "execution_count": 14,
   "id": "82fe0139",
   "metadata": {},
   "outputs": [
    {
     "name": "stdout",
     "output_type": "stream",
     "text": [
      "User: if I read that book, what exactly will I learn about Greek history?\n",
      "ChatBot: If you read **\"The Greeks and the Irrational\" by E.R. Dodds**, you'll gain a deeper and more nuanced understanding of ancient Greek history and culture, particularly the interplay between rationality and irrationality in their worldview. Here’s what you’ll learn:\n",
      "\n",
      "### 1. **The Role of Emotions in Greek Society**  \n",
      "   - You'll explore how emotions such as shame, guilt, and anger influenced Greek behavior and social norms.\n",
      "   - Dodds dives into the psychological and moral frameworks of the Greeks, showing how these emotions shaped their decisions and values.\n",
      "\n",
      "### 2. **Religion and Supernatural Beliefs**  \n",
      "   - The book examines the importance of religious practices, divine possession, and the belief in oracles in Greek society.\n",
      "   - You'll learn how rituals and supernatural elements were woven into their daily lives, politics, and even philosophy.\n",
      "\n",
      "### 3. **The Influence of Non-Rational Forces on Literature and Philosophy**  \n",
      "   - Dodds analyzes texts by Homer, Euripides, and Plato to highlight how irrational beliefs—like fear of divine retribution or prophetic dreams—appear in their works.\n",
      "   - You’ll see how these ideas influenced Greek tragedy, myths, and philosophical thought.\n",
      "\n",
      "### 4. **The Evolution of Thought in Greek History**  \n",
      "   - Dodds traces the shift from a traditional, mythological worldview in early Greece to the more rational, philosophical approach of later thinkers like Plato and Aristotle.\n",
      "   - This historical trajectory helps you understand how Greek thought developed over time.\n",
      "\n",
      "### 5. **The Concept of Fate and Free Will**  \n",
      "   - The book explores the Greeks' grappling with concepts like fate, destiny, and free will, and how these ideas impacted their moral and political systems.\n",
      "\n",
      "### 6. **Cross-Disciplinary Perspectives**  \n",
      "   - Dodds draws on psychology, anthropology, and sociology to provide a fresh perspective on Greek history and culture, giving you an interdisciplinary understanding of their society.\n",
      "\n",
      "Ultimately, reading this book will teach you that ancient Greek history and thought were not purely rational as often portrayed, but deeply shaped by irrational forces. This insight challenges traditional narratives and enriches your understanding of Greek civilization as a complex and multifaceted culture.\n",
      "\n",
      "Would you like recommendations for other books that explore similar themes?\n"
     ]
    }
   ],
   "source": [
    "await chat(\"if I read that book, what exactly will I learn about Greek history?\")"
   ]
  },
  {
   "cell_type": "code",
   "execution_count": 15,
   "id": "55b3a9f2",
   "metadata": {},
   "outputs": [
    {
     "name": "stdout",
     "output_type": "stream",
     "text": [
      "User: could you list some more books I could read about this topic?\n",
      "ChatBot: Certainly! If you're interested in exploring more books about the interplay of rationality, irrationality, philosophy, and religion in Greek history and culture, here are some excellent options:\n",
      "\n",
      "---\n",
      "\n",
      "### **Philosophy and Thought in Ancient Greece**  \n",
      "1. **\"Greek Religion\" by Walter Burkert**  \n",
      "   - A comprehensive exploration of ancient Greek religion, rituals, myths, and practices. Burkert examines how religion influenced Greek society and thought, offering detailed insights into their beliefs about gods, fate, and the supernatural.\n",
      "\n",
      "2. **\"The Birth of Tragedy\" by Friedrich Nietzsche**  \n",
      "   - Nietzsche examines the tension between the rational, ordered \"Apollonian\" aspects of Greek culture and the chaotic, emotional \"Dionysian\" elements, particularly in Greek tragedy. A philosophical classic that delves deeply into Greek art and thought.\n",
      "\n",
      "3. **\"The Sophists\" by W.K.C. Guthrie**  \n",
      "   - A detailed account of the Sophists, the controversial thinkers who challenged traditional Greek values and introduced subjective views on morality, truth, and society. This book is great for understanding their role in shaping Greek intellectual life.\n",
      "\n",
      "4. **\"The Fragility of Goodness: Luck and Ethics in Greek Tragedy and Philosophy\" by Martha C. Nussbaum**  \n",
      "   - Nussbaum explores how Greek philosophers and playwrights grappled with the role of luck and vulnerability in human life, particularly in ethics and tragedy. This book provides insights into how irrational forces like fate and chance were viewed in Greek culture.\n",
      "\n",
      "---\n",
      "\n",
      "### **History and Culture of Ancient Greece**  \n",
      "5. **\"The World of Odysseus\" by M.I. Finley**  \n",
      "   - A groundbreaking work that combines history, sociology, and anthropology to reconstruct the society of Homeric Greece. It’s a fascinating look at the values and beliefs of early Greek culture, including their views on honor, family, and the gods.\n",
      "\n",
      "6. **\"A Cultural History of the Ancient World\" by Mikhail Rostovtzeff**  \n",
      "   - This book provides a sweeping overview of ancient Greek culture, including its irrational and mystical aspects, alongside its rational achievements in philosophy, science, and art.\n",
      "\n",
      "7. **\"The Discovery of the Mind: The Greek Origins of European Thought\" by Bruno Snell**  \n",
      "   - Snell argues that the Greeks were the first to develop the concept of individual self-awareness, which shaped their philosophy, literature, and society. A must-read for understanding the origins of rational and irrational thought.\n",
      "\n",
      "---\n",
      "\n",
      "### **Mythology and Psychology**  \n",
      "8. **\"The Hero with a Thousand Faces\" by Joseph Campbell**  \n",
      "   - While not exclusively about Greece, Campbell’s exploration of mythology includes a focus on Greek myths and their psychological significance. This book is great for understanding the universal themes of irrationality in myths.\n",
      "\n",
      "9. **\"Works and Days\" by Hesiod**  \n",
      "   - Hesiod’s poem paints a vivid picture of early Greek beliefs about the gods, fate, and morality. It’s an excellent primary text for studying the cultural and religious foundations of ancient Greece.\n",
      "\n",
      "10. **\"The Masks of God: Occidental Mythology\" by Joseph Campbell**  \n",
      "   - This book dives deeper into Greek mythology and its connections to broader European thought, examining how myths reflect both rational and irrational aspects of human life.\n",
      "\n",
      "---\n",
      "\n",
      "### **Interdisciplinary Perspectives**  \n",
      "11. **\"Ancient Philosophy, Mystery, and Magic\" by Peter Kingsley**  \n",
      "   - Kingsley explores the mystical roots of pre-Socratic philosophy, showing how early thinkers like Parmenides and Empedocles were deeply influenced by irrational and mystical traditions.\n",
      "\n",
      "12. **\"Magic, Witchcraft, and Ghosts in the Greek and Roman Worlds\" by Daniel Ogden**  \n",
      "   - A fascinating study of supernatural beliefs and practices in the ancient Greek and Roman worlds, including magic, curses, and ghost stories.\n",
      "\n",
      "---\n",
      "\n",
      "Let me know if you'd like me to narrow this list or focus on specific aspects!\n"
     ]
    }
   ],
   "source": [
    "await chat(\"could you list some more books I could read about this topic?\")"
   ]
  },
  {
   "attachments": {},
   "cell_type": "markdown",
   "id": "c30bac97",
   "metadata": {},
   "source": [
    "After chatting for a while, we have built a growing history, which we are attaching to each prompt and which contains the full conversation. Let's take a look!\n"
   ]
  },
  {
   "cell_type": "code",
   "execution_count": 16,
   "id": "5e34ae55",
   "metadata": {},
   "outputs": [
    {
     "name": "stdout",
     "output_type": "stream",
     "text": [
      "<chat_history><message role=\"system\"><text>You are a helpful chatbot who is good about giving book recommendations.</text></message><message role=\"assistant\"><text>Of course! I'd love to help. Could you tell me a bit more about what you're looking for? Are you into fiction or nonfiction? Any specific genres, themes, or authors you enjoy?</text></message><message role=\"user\"><text>I love history and philosophy, I'd like to learn something new about Greece, any suggestion?</text></message><message role=\"assistant\"><text>Absolutely! Here are some excellent book recommendations that delve into Greek history and philosophy:\n",
      "\n",
      "### Greek History:\n",
      "1. **\"The Histories\" by Herodotus**  \n",
      "   Known as the \"Father of History,\" Herodotus provides fascinating insights into ancient Greece and its neighboring civilizations, blending historical accounts with cultural observations.\n",
      "\n",
      "2. **\"The Peloponnesian War\" by Thucydides**  \n",
      "   A detailed and analytical account of the conflict between Athens and Sparta, Thucydides' work is considered one of the greatest historical texts ever written.\n",
      "\n",
      "3. **\"Alexander the Great\" by Philip Freeman**  \n",
      "   This biography offers a compelling narrative of Alexander the Great's life, conquests, and legacy, making it accessible and engaging for readers.\n",
      "\n",
      "4. **\"The Greeks: A Global History\" by Roderick Beaton**  \n",
      "   This recent book is a sweeping overview of Greek history, from ancient times to the modern era, offering fresh perspectives on Greece's contributions to the world.\n",
      "\n",
      "---\n",
      "\n",
      "### Greek Philosophy:\n",
      "1. **\"The Republic\" by Plato**  \n",
      "   A cornerstone of Western philosophy, this dialogue explores justice, governance, and the nature of an ideal society.\n",
      "\n",
      "2. **\"Nicomachean Ethics\" by Aristotle**  \n",
      "   Aristotle's seminal work on ethics and the pursuit of the good life is both profound and timeless.\n",
      "\n",
      "3. **\"Meditations\" by Marcus Aurelius**  \n",
      "   While Marcus Aurelius was Roman, his Stoic philosophy was heavily influenced by earlier Greek thinkers like Epictetus and Zeno. This is a fantastic introduction to practical philosophy.\n",
      "\n",
      "4. **\"The Presocratics: A Critical History with a Selection of Texts\" by G.S. Kirk, J.E. Raven, and M. Schofield**  \n",
      "   Learn about the early Greek philosophers who laid the groundwork for later thinkers like Plato and Aristotle.\n",
      "\n",
      "---\n",
      "\n",
      "### Bonus Suggestion:\n",
      "- **\"The Greeks and the Irrational\" by E.R. Dodds**  \n",
      "   This book reevaluates Greek culture and philosophy, exploring how irrational elements like emotions and religion shaped ancient Greek thought.\n",
      "\n",
      "Let me know if you'd like more recommendations or details about any of these!</text></message><message role=\"user\"><text>that sounds interesting, what is it about?</text></message><message role=\"assistant\"><text>Sure! Let me give you a bit more detail about **\"The Greeks and the Irrational\" by E.R. Dodds**:\n",
      "\n",
      "This fascinating book challenges the traditional view of ancient Greece as a purely rational and logical society. Dodds argues that, alongside their celebrated achievements in philosophy, science, and logic, the Greeks were profoundly influenced by irrational forces such as emotions, dreams, religious experiences, and superstitions. \n",
      "\n",
      "Using insights from psychology and anthropology, Dodds explores themes like the role of shame and guilt in Greek society, the significance of divine possession and oracles, and how irrational beliefs shaped Greek drama, literature, and philosophy. He also examines the contrast between rational and non-rational thought in key texts, such as those by Homer, Euripides, and Plato.\n",
      "\n",
      "This book is considered groundbreaking because it provides a more nuanced view of Greek culture, showing how human irrationality played a crucial role in shaping their worldview and legacy. For anyone interested in philosophy, history, and psychology, it's a compelling and eye-opening read.\n",
      "\n",
      "Let me know if you'd like to know more about the content or other books like it!</text></message><message role=\"user\"><text>if I read that book, what exactly will I learn about Greek history?</text></message><message role=\"assistant\"><text>If you read **\"The Greeks and the Irrational\" by E.R. Dodds**, you'll gain a deeper and more nuanced understanding of ancient Greek history and culture, particularly the interplay between rationality and irrationality in their worldview. Here’s what you’ll learn:\n",
      "\n",
      "### 1. **The Role of Emotions in Greek Society**  \n",
      "   - You'll explore how emotions such as shame, guilt, and anger influenced Greek behavior and social norms.\n",
      "   - Dodds dives into the psychological and moral frameworks of the Greeks, showing how these emotions shaped their decisions and values.\n",
      "\n",
      "### 2. **Religion and Supernatural Beliefs**  \n",
      "   - The book examines the importance of religious practices, divine possession, and the belief in oracles in Greek society.\n",
      "   - You'll learn how rituals and supernatural elements were woven into their daily lives, politics, and even philosophy.\n",
      "\n",
      "### 3. **The Influence of Non-Rational Forces on Literature and Philosophy**  \n",
      "   - Dodds analyzes texts by Homer, Euripides, and Plato to highlight how irrational beliefs—like fear of divine retribution or prophetic dreams—appear in their works.\n",
      "   - You’ll see how these ideas influenced Greek tragedy, myths, and philosophical thought.\n",
      "\n",
      "### 4. **The Evolution of Thought in Greek History**  \n",
      "   - Dodds traces the shift from a traditional, mythological worldview in early Greece to the more rational, philosophical approach of later thinkers like Plato and Aristotle.\n",
      "   - This historical trajectory helps you understand how Greek thought developed over time.\n",
      "\n",
      "### 5. **The Concept of Fate and Free Will**  \n",
      "   - The book explores the Greeks' grappling with concepts like fate, destiny, and free will, and how these ideas impacted their moral and political systems.\n",
      "\n",
      "### 6. **Cross-Disciplinary Perspectives**  \n",
      "   - Dodds draws on psychology, anthropology, and sociology to provide a fresh perspective on Greek history and culture, giving you an interdisciplinary understanding of their society.\n",
      "\n",
      "Ultimately, reading this book will teach you that ancient Greek history and thought were not purely rational as often portrayed, but deeply shaped by irrational forces. This insight challenges traditional narratives and enriches your understanding of Greek civilization as a complex and multifaceted culture.\n",
      "\n",
      "Would you like recommendations for other books that explore similar themes?</text></message><message role=\"user\"><text>could you list some more books I could read about this topic?</text></message><message role=\"assistant\"><text>Certainly! If you're interested in exploring more books about the interplay of rationality, irrationality, philosophy, and religion in Greek history and culture, here are some excellent options:\n",
      "\n",
      "---\n",
      "\n",
      "### **Philosophy and Thought in Ancient Greece**  \n",
      "1. **\"Greek Religion\" by Walter Burkert**  \n",
      "   - A comprehensive exploration of ancient Greek religion, rituals, myths, and practices. Burkert examines how religion influenced Greek society and thought, offering detailed insights into their beliefs about gods, fate, and the supernatural.\n",
      "\n",
      "2. **\"The Birth of Tragedy\" by Friedrich Nietzsche**  \n",
      "   - Nietzsche examines the tension between the rational, ordered \"Apollonian\" aspects of Greek culture and the chaotic, emotional \"Dionysian\" elements, particularly in Greek tragedy. A philosophical classic that delves deeply into Greek art and thought.\n",
      "\n",
      "3. **\"The Sophists\" by W.K.C. Guthrie**  \n",
      "   - A detailed account of the Sophists, the controversial thinkers who challenged traditional Greek values and introduced subjective views on morality, truth, and society. This book is great for understanding their role in shaping Greek intellectual life.\n",
      "\n",
      "4. **\"The Fragility of Goodness: Luck and Ethics in Greek Tragedy and Philosophy\" by Martha C. Nussbaum**  \n",
      "   - Nussbaum explores how Greek philosophers and playwrights grappled with the role of luck and vulnerability in human life, particularly in ethics and tragedy. This book provides insights into how irrational forces like fate and chance were viewed in Greek culture.\n",
      "\n",
      "---\n",
      "\n",
      "### **History and Culture of Ancient Greece**  \n",
      "5. **\"The World of Odysseus\" by M.I. Finley**  \n",
      "   - A groundbreaking work that combines history, sociology, and anthropology to reconstruct the society of Homeric Greece. It’s a fascinating look at the values and beliefs of early Greek culture, including their views on honor, family, and the gods.\n",
      "\n",
      "6. **\"A Cultural History of the Ancient World\" by Mikhail Rostovtzeff**  \n",
      "   - This book provides a sweeping overview of ancient Greek culture, including its irrational and mystical aspects, alongside its rational achievements in philosophy, science, and art.\n",
      "\n",
      "7. **\"The Discovery of the Mind: The Greek Origins of European Thought\" by Bruno Snell**  \n",
      "   - Snell argues that the Greeks were the first to develop the concept of individual self-awareness, which shaped their philosophy, literature, and society. A must-read for understanding the origins of rational and irrational thought.\n",
      "\n",
      "---\n",
      "\n",
      "### **Mythology and Psychology**  \n",
      "8. **\"The Hero with a Thousand Faces\" by Joseph Campbell**  \n",
      "   - While not exclusively about Greece, Campbell’s exploration of mythology includes a focus on Greek myths and their psychological significance. This book is great for understanding the universal themes of irrationality in myths.\n",
      "\n",
      "9. **\"Works and Days\" by Hesiod**  \n",
      "   - Hesiod’s poem paints a vivid picture of early Greek beliefs about the gods, fate, and morality. It’s an excellent primary text for studying the cultural and religious foundations of ancient Greece.\n",
      "\n",
      "10. **\"The Masks of God: Occidental Mythology\" by Joseph Campbell**  \n",
      "   - This book dives deeper into Greek mythology and its connections to broader European thought, examining how myths reflect both rational and irrational aspects of human life.\n",
      "\n",
      "---\n",
      "\n",
      "### **Interdisciplinary Perspectives**  \n",
      "11. **\"Ancient Philosophy, Mystery, and Magic\" by Peter Kingsley**  \n",
      "   - Kingsley explores the mystical roots of pre-Socratic philosophy, showing how early thinkers like Parmenides and Empedocles were deeply influenced by irrational and mystical traditions.\n",
      "\n",
      "12. **\"Magic, Witchcraft, and Ghosts in the Greek and Roman Worlds\" by Daniel Ogden**  \n",
      "   - A fascinating study of supernatural beliefs and practices in the ancient Greek and Roman worlds, including magic, curses, and ghost stories.\n",
      "\n",
      "---\n",
      "\n",
      "Let me know if you'd like me to narrow this list or focus on specific aspects!</text></message></chat_history>\n"
     ]
    }
   ],
   "source": [
    "print(chat_history)"
   ]
  }
 ],
 "metadata": {
  "kernelspec": {
   "display_name": ".venv",
   "language": "python",
   "name": "python3"
  },
  "language_info": {
   "codemirror_mode": {
    "name": "ipython",
    "version": 3
   },
   "file_extension": ".py",
   "mimetype": "text/x-python",
   "name": "python",
   "nbconvert_exporter": "python",
   "pygments_lexer": "ipython3",
   "version": "3.12.1"
  }
 },
 "nbformat": 4,
 "nbformat_minor": 5
}
